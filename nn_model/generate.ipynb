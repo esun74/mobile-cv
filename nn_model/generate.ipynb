{
 "cells": [
  {
   "cell_type": "markdown",
   "metadata": {},
   "source": [
    "# Facial Keypoints Detection"
   ]
  },
  {
   "cell_type": "markdown",
   "metadata": {},
   "source": [
    "### Initialization"
   ]
  },
  {
   "cell_type": "code",
   "execution_count": 1,
   "metadata": {},
   "outputs": [],
   "source": [
    "import numpy as np\n",
    "import pandas as pd\n",
    "import tensorflow as tf\n",
    "import matplotlib.pyplot as plt\n",
    "from ipywidgets import interactive\n",
    "import tensorflowjs as tfjs\n",
    "\n",
    "%matplotlib inline\n",
    "pd.options.display.width = 800"
   ]
  },
  {
   "cell_type": "code",
   "execution_count": 2,
   "metadata": {},
   "outputs": [
    {
     "name": "stdout",
     "output_type": "stream",
     "text": [
      "Initial Training (7049, 31)\n",
      "Initial Test (1783, 1)\n"
     ]
    }
   ],
   "source": [
    "id_lookup_table = pd.read_csv('./IdLookupTable.csv')\n",
    "\n",
    "train = pd.read_csv('./training.csv')\n",
    "print('Initial Training', train.shape)\n",
    "\n",
    "test = pd.read_csv('./test.csv', index_col=0)\n",
    "print('Initial Test', test.shape)"
   ]
  },
  {
   "cell_type": "markdown",
   "metadata": {},
   "source": [
    "### Exploratory Data Analysis (EDA)"
   ]
  },
  {
   "cell_type": "code",
   "execution_count": 3,
   "metadata": {},
   "outputs": [
    {
     "data": {
      "text/html": [
       "<div>\n",
       "<style scoped>\n",
       "    .dataframe tbody tr th:only-of-type {\n",
       "        vertical-align: middle;\n",
       "    }\n",
       "\n",
       "    .dataframe tbody tr th {\n",
       "        vertical-align: top;\n",
       "    }\n",
       "\n",
       "    .dataframe thead th {\n",
       "        text-align: right;\n",
       "    }\n",
       "</style>\n",
       "<table border=\"1\" class=\"dataframe\">\n",
       "  <thead>\n",
       "    <tr style=\"text-align: right;\">\n",
       "      <th></th>\n",
       "      <th>0</th>\n",
       "      <th>1</th>\n",
       "      <th>2</th>\n",
       "      <th>3</th>\n",
       "      <th>4</th>\n",
       "    </tr>\n",
       "  </thead>\n",
       "  <tbody>\n",
       "    <tr>\n",
       "      <th>left_eye_center_x</th>\n",
       "      <td>66.033564</td>\n",
       "      <td>64.332936</td>\n",
       "      <td>65.057053</td>\n",
       "      <td>65.225739</td>\n",
       "      <td>66.725301</td>\n",
       "    </tr>\n",
       "    <tr>\n",
       "      <th>left_eye_center_y</th>\n",
       "      <td>39.002274</td>\n",
       "      <td>34.970077</td>\n",
       "      <td>34.909642</td>\n",
       "      <td>37.261774</td>\n",
       "      <td>39.621261</td>\n",
       "    </tr>\n",
       "    <tr>\n",
       "      <th>right_eye_center_x</th>\n",
       "      <td>30.227008</td>\n",
       "      <td>29.949277</td>\n",
       "      <td>30.903789</td>\n",
       "      <td>32.023096</td>\n",
       "      <td>32.24481</td>\n",
       "    </tr>\n",
       "    <tr>\n",
       "      <th>right_eye_center_y</th>\n",
       "      <td>36.421678</td>\n",
       "      <td>33.448715</td>\n",
       "      <td>34.909642</td>\n",
       "      <td>37.261774</td>\n",
       "      <td>38.042032</td>\n",
       "    </tr>\n",
       "    <tr>\n",
       "      <th>left_eye_inner_corner_x</th>\n",
       "      <td>59.582075</td>\n",
       "      <td>58.85617</td>\n",
       "      <td>59.412</td>\n",
       "      <td>60.003339</td>\n",
       "      <td>58.56589</td>\n",
       "    </tr>\n",
       "    <tr>\n",
       "      <th>left_eye_inner_corner_y</th>\n",
       "      <td>39.647423</td>\n",
       "      <td>35.274349</td>\n",
       "      <td>36.320968</td>\n",
       "      <td>39.127179</td>\n",
       "      <td>39.621261</td>\n",
       "    </tr>\n",
       "    <tr>\n",
       "      <th>left_eye_outer_corner_x</th>\n",
       "      <td>73.130346</td>\n",
       "      <td>70.722723</td>\n",
       "      <td>70.984421</td>\n",
       "      <td>72.314713</td>\n",
       "      <td>72.515926</td>\n",
       "    </tr>\n",
       "    <tr>\n",
       "      <th>left_eye_outer_corner_y</th>\n",
       "      <td>39.969997</td>\n",
       "      <td>36.187166</td>\n",
       "      <td>36.320968</td>\n",
       "      <td>38.380967</td>\n",
       "      <td>39.884466</td>\n",
       "    </tr>\n",
       "    <tr>\n",
       "      <th>right_eye_inner_corner_x</th>\n",
       "      <td>36.356571</td>\n",
       "      <td>36.034723</td>\n",
       "      <td>37.678105</td>\n",
       "      <td>37.618643</td>\n",
       "      <td>36.98238</td>\n",
       "    </tr>\n",
       "    <tr>\n",
       "      <th>right_eye_inner_corner_y</th>\n",
       "      <td>37.389402</td>\n",
       "      <td>34.361532</td>\n",
       "      <td>36.320968</td>\n",
       "      <td>38.754115</td>\n",
       "      <td>39.094852</td>\n",
       "    </tr>\n",
       "    <tr>\n",
       "      <th>right_eye_outer_corner_x</th>\n",
       "      <td>23.452872</td>\n",
       "      <td>24.472511</td>\n",
       "      <td>24.976421</td>\n",
       "      <td>25.30727</td>\n",
       "      <td>22.50611</td>\n",
       "    </tr>\n",
       "    <tr>\n",
       "      <th>right_eye_outer_corner_y</th>\n",
       "      <td>37.389402</td>\n",
       "      <td>33.144443</td>\n",
       "      <td>36.603221</td>\n",
       "      <td>38.007903</td>\n",
       "      <td>38.305237</td>\n",
       "    </tr>\n",
       "    <tr>\n",
       "      <th>left_eyebrow_inner_end_x</th>\n",
       "      <td>56.953263</td>\n",
       "      <td>53.987404</td>\n",
       "      <td>55.742526</td>\n",
       "      <td>56.433809</td>\n",
       "      <td>57.249571</td>\n",
       "    </tr>\n",
       "    <tr>\n",
       "      <th>left_eyebrow_inner_end_y</th>\n",
       "      <td>29.033648</td>\n",
       "      <td>28.275949</td>\n",
       "      <td>27.570947</td>\n",
       "      <td>30.929864</td>\n",
       "      <td>30.672177</td>\n",
       "    </tr>\n",
       "    <tr>\n",
       "      <th>left_eyebrow_outer_end_x</th>\n",
       "      <td>80.227128</td>\n",
       "      <td>78.634213</td>\n",
       "      <td>78.887368</td>\n",
       "      <td>77.910261</td>\n",
       "      <td>77.762945</td>\n",
       "    </tr>\n",
       "    <tr>\n",
       "      <th>left_eyebrow_outer_end_y</th>\n",
       "      <td>32.228138</td>\n",
       "      <td>30.405923</td>\n",
       "      <td>32.651621</td>\n",
       "      <td>31.665725</td>\n",
       "      <td>31.737247</td>\n",
       "    </tr>\n",
       "    <tr>\n",
       "      <th>right_eyebrow_inner_end_x</th>\n",
       "      <td>40.227609</td>\n",
       "      <td>42.728851</td>\n",
       "      <td>42.193895</td>\n",
       "      <td>41.671513</td>\n",
       "      <td>38.035436</td>\n",
       "    </tr>\n",
       "    <tr>\n",
       "      <th>right_eyebrow_inner_end_y</th>\n",
       "      <td>29.002322</td>\n",
       "      <td>26.146043</td>\n",
       "      <td>28.135453</td>\n",
       "      <td>31.04999</td>\n",
       "      <td>30.935382</td>\n",
       "    </tr>\n",
       "    <tr>\n",
       "      <th>right_eyebrow_outer_end_x</th>\n",
       "      <td>16.356379</td>\n",
       "      <td>16.865362</td>\n",
       "      <td>16.791158</td>\n",
       "      <td>20.458017</td>\n",
       "      <td>15.92587</td>\n",
       "    </tr>\n",
       "    <tr>\n",
       "      <th>right_eyebrow_outer_end_y</th>\n",
       "      <td>29.647471</td>\n",
       "      <td>27.05886</td>\n",
       "      <td>32.087116</td>\n",
       "      <td>29.909343</td>\n",
       "      <td>30.672177</td>\n",
       "    </tr>\n",
       "    <tr>\n",
       "      <th>nose_tip_x</th>\n",
       "      <td>44.420571</td>\n",
       "      <td>48.206298</td>\n",
       "      <td>47.557263</td>\n",
       "      <td>51.885078</td>\n",
       "      <td>43.299534</td>\n",
       "    </tr>\n",
       "    <tr>\n",
       "      <th>nose_tip_y</th>\n",
       "      <td>57.066803</td>\n",
       "      <td>55.660936</td>\n",
       "      <td>53.538947</td>\n",
       "      <td>54.166539</td>\n",
       "      <td>64.889521</td>\n",
       "    </tr>\n",
       "    <tr>\n",
       "      <th>mouth_left_corner_x</th>\n",
       "      <td>61.195308</td>\n",
       "      <td>56.421447</td>\n",
       "      <td>60.822947</td>\n",
       "      <td>65.598887</td>\n",
       "      <td>60.671411</td>\n",
       "    </tr>\n",
       "    <tr>\n",
       "      <th>mouth_left_corner_y</th>\n",
       "      <td>79.970165</td>\n",
       "      <td>76.352</td>\n",
       "      <td>73.014316</td>\n",
       "      <td>72.703722</td>\n",
       "      <td>77.523239</td>\n",
       "    </tr>\n",
       "    <tr>\n",
       "      <th>mouth_right_corner_x</th>\n",
       "      <td>28.614496</td>\n",
       "      <td>35.122383</td>\n",
       "      <td>33.726316</td>\n",
       "      <td>37.245496</td>\n",
       "      <td>31.191755</td>\n",
       "    </tr>\n",
       "    <tr>\n",
       "      <th>mouth_right_corner_y</th>\n",
       "      <td>77.388992</td>\n",
       "      <td>76.04766</td>\n",
       "      <td>72.732</td>\n",
       "      <td>74.195478</td>\n",
       "      <td>76.997301</td>\n",
       "    </tr>\n",
       "    <tr>\n",
       "      <th>mouth_center_top_lip_x</th>\n",
       "      <td>43.312602</td>\n",
       "      <td>46.684596</td>\n",
       "      <td>47.274947</td>\n",
       "      <td>50.303165</td>\n",
       "      <td>44.962748</td>\n",
       "    </tr>\n",
       "    <tr>\n",
       "      <th>mouth_center_top_lip_y</th>\n",
       "      <td>72.935459</td>\n",
       "      <td>70.266553</td>\n",
       "      <td>70.191789</td>\n",
       "      <td>70.091687</td>\n",
       "      <td>73.707387</td>\n",
       "    </tr>\n",
       "    <tr>\n",
       "      <th>mouth_center_bottom_lip_x</th>\n",
       "      <td>43.130707</td>\n",
       "      <td>45.467915</td>\n",
       "      <td>47.274947</td>\n",
       "      <td>51.561183</td>\n",
       "      <td>44.227141</td>\n",
       "    </tr>\n",
       "    <tr>\n",
       "      <th>mouth_center_bottom_lip_y</th>\n",
       "      <td>84.485774</td>\n",
       "      <td>85.48017</td>\n",
       "      <td>78.659368</td>\n",
       "      <td>78.268383</td>\n",
       "      <td>86.871166</td>\n",
       "    </tr>\n",
       "    <tr>\n",
       "      <th>Image</th>\n",
       "      <td>238 236 237 238 240 240 239 241 241 243 240 23...</td>\n",
       "      <td>219 215 204 196 204 211 212 200 180 168 178 19...</td>\n",
       "      <td>144 142 159 180 188 188 184 180 167 132 84 59 ...</td>\n",
       "      <td>193 192 193 194 194 194 193 192 168 111 50 12 ...</td>\n",
       "      <td>147 148 160 196 215 214 216 217 219 220 206 18...</td>\n",
       "    </tr>\n",
       "  </tbody>\n",
       "</table>\n",
       "</div>"
      ],
      "text/plain": [
       "                                                                           0                                                  1                                                  2                                                  3                                                  4\n",
       "left_eye_center_x                                                  66.033564                                          64.332936                                          65.057053                                          65.225739                                          66.725301\n",
       "left_eye_center_y                                                  39.002274                                          34.970077                                          34.909642                                          37.261774                                          39.621261\n",
       "right_eye_center_x                                                 30.227008                                          29.949277                                          30.903789                                          32.023096                                           32.24481\n",
       "right_eye_center_y                                                 36.421678                                          33.448715                                          34.909642                                          37.261774                                          38.042032\n",
       "left_eye_inner_corner_x                                            59.582075                                           58.85617                                             59.412                                          60.003339                                           58.56589\n",
       "left_eye_inner_corner_y                                            39.647423                                          35.274349                                          36.320968                                          39.127179                                          39.621261\n",
       "left_eye_outer_corner_x                                            73.130346                                          70.722723                                          70.984421                                          72.314713                                          72.515926\n",
       "left_eye_outer_corner_y                                            39.969997                                          36.187166                                          36.320968                                          38.380967                                          39.884466\n",
       "right_eye_inner_corner_x                                           36.356571                                          36.034723                                          37.678105                                          37.618643                                           36.98238\n",
       "right_eye_inner_corner_y                                           37.389402                                          34.361532                                          36.320968                                          38.754115                                          39.094852\n",
       "right_eye_outer_corner_x                                           23.452872                                          24.472511                                          24.976421                                           25.30727                                           22.50611\n",
       "right_eye_outer_corner_y                                           37.389402                                          33.144443                                          36.603221                                          38.007903                                          38.305237\n",
       "left_eyebrow_inner_end_x                                           56.953263                                          53.987404                                          55.742526                                          56.433809                                          57.249571\n",
       "left_eyebrow_inner_end_y                                           29.033648                                          28.275949                                          27.570947                                          30.929864                                          30.672177\n",
       "left_eyebrow_outer_end_x                                           80.227128                                          78.634213                                          78.887368                                          77.910261                                          77.762945\n",
       "left_eyebrow_outer_end_y                                           32.228138                                          30.405923                                          32.651621                                          31.665725                                          31.737247\n",
       "right_eyebrow_inner_end_x                                          40.227609                                          42.728851                                          42.193895                                          41.671513                                          38.035436\n",
       "right_eyebrow_inner_end_y                                          29.002322                                          26.146043                                          28.135453                                           31.04999                                          30.935382\n",
       "right_eyebrow_outer_end_x                                          16.356379                                          16.865362                                          16.791158                                          20.458017                                           15.92587\n",
       "right_eyebrow_outer_end_y                                          29.647471                                           27.05886                                          32.087116                                          29.909343                                          30.672177\n",
       "nose_tip_x                                                         44.420571                                          48.206298                                          47.557263                                          51.885078                                          43.299534\n",
       "nose_tip_y                                                         57.066803                                          55.660936                                          53.538947                                          54.166539                                          64.889521\n",
       "mouth_left_corner_x                                                61.195308                                          56.421447                                          60.822947                                          65.598887                                          60.671411\n",
       "mouth_left_corner_y                                                79.970165                                             76.352                                          73.014316                                          72.703722                                          77.523239\n",
       "mouth_right_corner_x                                               28.614496                                          35.122383                                          33.726316                                          37.245496                                          31.191755\n",
       "mouth_right_corner_y                                               77.388992                                           76.04766                                             72.732                                          74.195478                                          76.997301\n",
       "mouth_center_top_lip_x                                             43.312602                                          46.684596                                          47.274947                                          50.303165                                          44.962748\n",
       "mouth_center_top_lip_y                                             72.935459                                          70.266553                                          70.191789                                          70.091687                                          73.707387\n",
       "mouth_center_bottom_lip_x                                          43.130707                                          45.467915                                          47.274947                                          51.561183                                          44.227141\n",
       "mouth_center_bottom_lip_y                                          84.485774                                           85.48017                                          78.659368                                          78.268383                                          86.871166\n",
       "Image                      238 236 237 238 240 240 239 241 241 243 240 23...  219 215 204 196 204 211 212 200 180 168 178 19...  144 142 159 180 188 188 184 180 167 132 84 59 ...  193 192 193 194 194 194 193 192 168 111 50 12 ...  147 148 160 196 215 214 216 217 219 220 206 18..."
      ]
     },
     "execution_count": 3,
     "metadata": {},
     "output_type": "execute_result"
    }
   ],
   "source": [
    "# View data\n",
    "\n",
    "train.head().T"
   ]
  },
  {
   "cell_type": "code",
   "execution_count": 4,
   "metadata": {},
   "outputs": [
    {
     "data": {
      "image/png": "[encoded data removed]",
      "text/plain": [
       "<Figure size 432x288 with 1 Axes>"
      ]
     },
     "metadata": {
      "needs_background": "light"
     },
     "output_type": "display_data"
    }
   ],
   "source": [
    "# Missing values\n",
    "\n",
    "train.isnull().sum().plot(kind='bar')\n",
    "plt.ylim(0, len(train))\n",
    "plt.show()\n",
    "\n",
    "# different options to fix na values\n",
    "# inplace saves space but I want the flexibility to switch later without reloading the original dataset\n",
    "\n",
    "# train_no_na = train.dropna(axis=0).copy().reset_index(drop=True)\n",
    "# train_no_na = train.fillna(value=0).copy()\n",
    "train_no_na = train.fillna(method='ffill').copy()\n"
   ]
  },
  {
   "cell_type": "code",
   "execution_count": 5,
   "metadata": {},
   "outputs": [],
   "source": [
    "# Modify image data in-place\n",
    "\n",
    "def format_string_into_list(target, from_col):\n",
    "\ttarget['image_data'] = target[from_col].map(lambda x: np.array([int(y) for y in x.split(' ')]))\n",
    "\tassert len(target['image_data'].map(len).unique()) == 1, f'Missing or uneven lengths in image data: {target.image_data.map(len)}' \n",
    "\tassert min(target['image_data'].map(min)) >= 0, 'Negative values in image data'\n",
    "\tassert max(target['image_data'].map(max)) < 256, 'Unexpectedly large values in image data'"
   ]
  },
  {
   "cell_type": "code",
   "execution_count": 6,
   "metadata": {},
   "outputs": [],
   "source": [
    "format_string_into_list(train_no_na, 'Image')"
   ]
  },
  {
   "cell_type": "code",
   "execution_count": 7,
   "metadata": {},
   "outputs": [
    {
     "data": {
      "application/vnd.jupyter.widget-view+json": {
       "model_id": "305e656e8cc34cfe93e5207759cf994a",
       "version_major": 2,
       "version_minor": 0
      },
      "text/plain": [
       "interactive(children=(Dropdown(description='index', options=(0, 1, 2, 3, 4, 5, 6, 7, 8, 9, 10, 11, 12, 13, 14,…"
      ]
     },
     "metadata": {},
     "output_type": "display_data"
    }
   ],
   "source": [
    "# Show face\n",
    "\n",
    "def plot_face(index):\n",
    "\tplt.imshow(train_no_na.at[index, 'image_data'].reshape(96, 96), cmap='gray')\n",
    "\tkeypoints = train_no_na.iloc[index, :~1].to_numpy()\n",
    "\tplt.scatter(keypoints[0::2], keypoints[1::2])\n",
    "\tplt.xticks([])\n",
    "\tplt.yticks([])\n",
    "\tplt.show()\n",
    "\n",
    "interactive(plot_face, index=train_no_na.index)"
   ]
  },
  {
   "cell_type": "markdown",
   "metadata": {},
   "source": [
    "### Model Building"
   ]
  },
  {
   "cell_type": "code",
   "execution_count": 8,
   "metadata": {},
   "outputs": [],
   "source": [
    "model = tf.keras.Sequential([\n",
    "\ttf.keras.layers.Flatten(input_shape=(96, 96, 1)),\n",
    "\t\ttf.keras.layers.Dense(128, activation=\"relu\"),\n",
    "\t\ttf.keras.layers.Dropout(0.1),\n",
    "\t\ttf.keras.layers.Dense(64, activation=\"relu\"),\n",
    "\t\ttf.keras.layers.Dense(30)\n",
    "])"
   ]
  },
  {
   "cell_type": "code",
   "execution_count": 9,
   "metadata": {},
   "outputs": [],
   "source": [
    "model.compile(optimizer='adam', loss='mse', metrics=['acc'])"
   ]
  },
  {
   "cell_type": "code",
   "execution_count": 10,
   "metadata": {},
   "outputs": [
    {
     "name": "stdout",
     "output_type": "stream",
     "text": [
      "(7049, 96, 96) (7049, 30)\n",
      "Epoch 1/5\n",
      "221/221 [==============================] - 4s 18ms/step - loss: 4793.8970 - acc: 0.3100\n",
      "Epoch 2/5\n",
      "221/221 [==============================] - 3s 13ms/step - loss: 386.4444 - acc: 0.5731\n",
      "Epoch 3/5\n",
      "221/221 [==============================] - 3s 13ms/step - loss: 359.8048 - acc: 0.5632\n",
      "Epoch 4/5\n",
      "221/221 [==============================] - 3s 13ms/step - loss: 354.7314 - acc: 0.5621\n",
      "Epoch 5/5\n",
      "221/221 [==============================] - 3s 13ms/step - loss: 362.7036 - acc: 0.5595\n"
     ]
    },
    {
     "data": {
      "text/plain": [
       "<keras.callbacks.History at 0x1b5c23ebc40>"
      ]
     },
     "execution_count": 10,
     "metadata": {},
     "output_type": "execute_result"
    }
   ],
   "source": [
    "x = np.concatenate(train_no_na.image_data.to_numpy()).reshape(-1, 96, 96)\n",
    "y = np.concatenate(train_no_na.iloc[:,:~1].to_numpy()).reshape(-1, len(train_no_na.columns) - 2)\n",
    "print(x.shape, y.shape)\n",
    "model.fit(x, y, epochs=5)\n"
   ]
  },
  {
   "cell_type": "markdown",
   "metadata": {},
   "source": [
    "### Analysis of Predictions"
   ]
  },
  {
   "cell_type": "code",
   "execution_count": 11,
   "metadata": {},
   "outputs": [],
   "source": [
    "format_string_into_list(test, 'Image')"
   ]
  },
  {
   "cell_type": "code",
   "execution_count": 12,
   "metadata": {},
   "outputs": [],
   "source": [
    "x = np.concatenate(test.image_data.to_numpy()).reshape(-1, 96, 96)\n",
    "y = model.predict(x)"
   ]
  },
  {
   "cell_type": "code",
   "execution_count": 13,
   "metadata": {},
   "outputs": [
    {
     "data": {
      "application/vnd.jupyter.widget-view+json": {
       "model_id": "06b981bcc10445f79f98bd498737e928",
       "version_major": 2,
       "version_minor": 0
      },
      "text/plain": [
       "interactive(children=(Dropdown(description='index', options=(1, 2, 3, 4, 5, 6, 7, 8, 9, 10, 11, 12, 13, 14, 15…"
      ]
     },
     "metadata": {},
     "output_type": "display_data"
    }
   ],
   "source": [
    "# Show face\n",
    "\n",
    "def plot_face2(index):\n",
    "\tplt.imshow(test.at[index, 'image_data'].reshape(96, 96), cmap='gray')\n",
    "\tpredicted_kp = y[index]\n",
    "\tplt.scatter(predicted_kp[0::2], predicted_kp[1::2], color='red')\n",
    "\tplt.xticks([])\n",
    "\tplt.yticks([])\n",
    "\tplt.show()\n",
    "\n",
    "interactive(plot_face2, index=test.index)"
   ]
  },
  {
   "cell_type": "markdown",
   "metadata": {},
   "source": [
    "### Export model into TFJS"
   ]
  },
  {
   "cell_type": "code",
   "execution_count": 15,
   "metadata": {},
   "outputs": [],
   "source": [
    "tfjs.converters.save_keras_model(model, 'tfjs_model', weight_shard_size_bytes=999999999)"
   ]
  }
 ],
 "metadata": {
  "interpreter": {
   "hash": "f2e1a8a09c6f509f76675edcf174a63ac69d3e45e96543f6baad2bdc5f08cb6a"
  },
  "kernelspec": {
   "display_name": "Python 3.10.2 ('.venv': venv)",
   "language": "python",
   "name": "python3"
  },
  "language_info": {
   "codemirror_mode": {
    "name": "ipython",
    "version": 3
   },
   "file_extension": ".py",
   "mimetype": "text/x-python",
   "name": "python",
   "nbconvert_exporter": "python",
   "pygments_lexer": "ipython3",
   "version": "3.10.2"
  },
  "orig_nbformat": 4
 },
 "nbformat": 4,
 "nbformat_minor": 2
}
